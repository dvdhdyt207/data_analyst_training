{
 "cells": [
  {
   "cell_type": "code",
   "execution_count": 1,
   "id": "90179a0d-34f6-4fd1-89ac-63b318359f3f",
   "metadata": {},
   "outputs": [],
   "source": [
    "import numpy as np\n",
    "import pandas as pd"
   ]
  },
  {
   "cell_type": "code",
   "execution_count": 26,
   "id": "2e68ab71-bbf8-4615-911c-853ea159b68e",
   "metadata": {},
   "outputs": [],
   "source": [
    "df = pd.DataFrame({\n",
    "    'age': [39, 50, 38, 53, 28],\n",
    "    'workclass': ['State-gov', 'Self-emp-not-inc', 'Private', 'Private', 'Private'],\n",
    "    'fnlwgt': [77516, 83311, 215646, 234721, 338409],\n",
    "    'education': ['Bachelors', 'Bachelors', 'HS-grad', '11th', 'Bachelors'],\n",
    "    'education-num': [13, 13, 9, 7, 13],\n",
    "    'marital-status': ['Never-married', 'Married-civ-spouse', 'Divorced', \n",
    "                       'Married-civ-spouse', 'Married-civ-spouse'],\n",
    "    'occupation': ['Adm-clerical', 'Exec-managerial', 'Handlers-cleaners', \n",
    "                   'Handlers-cleaners', 'Prof-specialty'],\n",
    "    'relationship': ['Not-in-family', 'Husband', 'Not-in-family', 'Husband', 'Wife'],\n",
    "    'race': ['White', 'White', 'White', 'Black', 'Black'],\n",
    "    'sex': ['Male', 'Male', 'Male', 'Male', 'Female'],\n",
    "    'capital-gain': [2174, 0, 0, 0, 0],\n",
    "    'capital-loss': [0, 0, 0, 0, 0],\n",
    "    'hours-per-week': [40, 13, 40, 40, 40],\n",
    "    'native-country': ['United-States', 'United-States', 'United-States', \n",
    "                       'United-States', 'Cuba'],\n",
    "    'salary': ['<=50K', '<=50K', '<=50K', '<=50K', '<=50K']\n",
    "    })\n",
    "df"
   ]
  },
  {
   "cell_type": "code",
   "execution_count": 6,
   "id": "7182ac51-451c-48cd-9605-be0e463d8f92",
   "metadata": {},
   "outputs": [
    {
     "name": "stdout",
     "output_type": "stream",
     "text": [
      "race\n",
      "White    3\n",
      "Black    2\n",
      "Name: count, dtype: int64\n"
     ]
    }
   ],
   "source": [
    "race = df['race'].value_counts()\n",
    "print(race)"
   ]
  },
  {
   "cell_type": "code",
   "execution_count": 8,
   "id": "7b016d12-1575-4320-b0a7-00cfa401ae59",
   "metadata": {},
   "outputs": [
    {
     "name": "stdout",
     "output_type": "stream",
     "text": [
      "45.0\n"
     ]
    }
   ],
   "source": [
    "avg_men = df[df['sex'] == 'Male']['age'].mean()\n",
    "print(avg_men)"
   ]
  },
  {
   "cell_type": "code",
   "execution_count": 13,
   "id": "077ed625-5e17-42d4-abdb-97b632c793c5",
   "metadata": {},
   "outputs": [
    {
     "name": "stdout",
     "output_type": "stream",
     "text": [
      "Percentage Bachelor's: 60.0%\n"
     ]
    }
   ],
   "source": [
    "percentage_bachelors = (df[df['education'] == 'Bachelors'].shape[0] / df.shape[0]) * 100\n",
    "percentage_bachelors = round(percentage_bachelors, 1)\n",
    "print(f\"Percentage Bachelor's: {percentage_bachelors}%\")"
   ]
  },
  {
   "cell_type": "code",
   "execution_count": 15,
   "id": "b80106c3-5a83-41a9-bd08-bd59bdeec9c3",
   "metadata": {},
   "outputs": [
    {
     "name": "stdout",
     "output_type": "stream",
     "text": [
      "Percentage's: 0%\n"
     ]
    }
   ],
   "source": [
    "higher_education = df[df['education'].isin(['Bachelors', 'Masters', 'Doctorate'])]\n",
    "higher_education_rich = (higher_education['salary'] == '>50K' ).mean() * 100\n",
    "higher_education_rich = round(higher_education_rich)\n",
    "print(f\"Percentage's: {higher_education_rich}%\")"
   ]
  },
  {
   "cell_type": "code",
   "execution_count": 16,
   "id": "9f415647-680c-416a-848c-9803749771d3",
   "metadata": {},
   "outputs": [
    {
     "name": "stdout",
     "output_type": "stream",
     "text": [
      "Percentage's: 0%\n"
     ]
    }
   ],
   "source": [
    "nothigher_education = df[~df['education'].isin(['Bachelors', 'Masters', 'Doctorate'])]\n",
    "nothigher_education_rich = (nothigher_education['salary'] == '>50K' ).mean() * 100\n",
    "nothigher_education_rich = round(nothigher_education_rich)\n",
    "print(f\"Percentage's: {nothigher_education_rich}%\")"
   ]
  },
  {
   "cell_type": "code",
   "execution_count": 17,
   "id": "88f2bd99-2b93-4fff-9e0b-82c6cbbef17f",
   "metadata": {},
   "outputs": [
    {
     "name": "stdout",
     "output_type": "stream",
     "text": [
      "13\n"
     ]
    }
   ],
   "source": [
    "min_works = df['hours-per-week'].min()\n",
    "print(min_works)"
   ]
  },
  {
   "cell_type": "code",
   "execution_count": 19,
   "id": "716b5a2f-2620-426a-8b66-f209f2b555e0",
   "metadata": {},
   "outputs": [
    {
     "name": "stdout",
     "output_type": "stream",
     "text": [
      "Percentage's: 0%\n"
     ]
    }
   ],
   "source": [
    "work_person = df[df['hours-per-week'] == 13]\n",
    "min_works_person = (work_person['salary'] == '>50K').mean()\n",
    "min_works_person = round(min_works_person)\n",
    "print(f\"Percentage's: {min_works_person}%\")"
   ]
  },
  {
   "cell_type": "code",
   "execution_count": 24,
   "id": "ee239699-c347-476e-8a36-7ce16c2088d3",
   "metadata": {},
   "outputs": [
    {
     "name": "stdout",
     "output_type": "stream",
     "text": [
      "native-country\n",
      "United-States    4\n",
      "Cuba             1\n",
      "Name: count, dtype: int64\n"
     ]
    }
   ],
   "source": [
    "cnt = df['native-country'].value_counts()\n",
    "print(cnt)"
   ]
  },
  {
   "cell_type": "code",
   "execution_count": 34,
   "id": "ebcb16cc-fb9c-4139-868b-22fbedc2207b",
   "metadata": {},
   "outputs": [
    {
     "name": "stdout",
     "output_type": "stream",
     "text": [
      "Empty DataFrame\n",
      "Columns: [native-country, salary]\n",
      "Index: []\n"
     ]
    }
   ],
   "source": [
    "country_higher_income = df[df['salary'] == '>50K']\n",
    "print(country_higher_income[['native-country', 'salary']])"
   ]
  },
  {
   "cell_type": "code",
   "execution_count": 39,
   "id": "209b21c2-0717-46a8-90a4-c20a18b1406e",
   "metadata": {},
   "outputs": [
    {
     "name": "stdout",
     "output_type": "stream",
     "text": [
      "India is not in the data\n"
     ]
    }
   ],
   "source": [
    "if df['native-country'].isin(['India']).any():\n",
    "    print('India is in the data')\n",
    "else:\n",
    "    print('India is not in the data')"
   ]
  },
  {
   "cell_type": "code",
   "execution_count": null,
   "id": "0e9cb30b-34a8-45a3-900a-f9e0c2cbaf4a",
   "metadata": {},
   "outputs": [],
   "source": []
  }
 ],
 "metadata": {
  "kernelspec": {
   "display_name": "Python 3 (ipykernel)",
   "language": "python",
   "name": "python3"
  },
  "language_info": {
   "codemirror_mode": {
    "name": "ipython",
    "version": 3
   },
   "file_extension": ".py",
   "mimetype": "text/x-python",
   "name": "python",
   "nbconvert_exporter": "python",
   "pygments_lexer": "ipython3",
   "version": "3.12.8"
  }
 },
 "nbformat": 4,
 "nbformat_minor": 5
}
